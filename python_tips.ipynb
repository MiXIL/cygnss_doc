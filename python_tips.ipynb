{
 "cells": [
  {
   "cell_type": "markdown",
   "metadata": {},
   "source": [
    "# Python Tips/Tricks\n",
    "\n",
    "## IDE\n",
    "one of the best IDE (and it works with anaconda) is [intellij][intellij_website], you can use it or use [PyCharm][pycharm_website] which is almost the same. when you download the IDE use the community version. The IDE is very great for debugging as well as syntax correction/auto-complete and support other languages including Fortran and c++\n",
    "## Anaconda\n",
    "you can install [Anaconda][anaconda_website] by downloading the installation file. See the [cheatsheet][conda_cheatsheet] for most used commands. Try always when it's possible to install packages from ``conda-forge`` source. Below an example.\n",
    "```shell script\n",
    "$ conda install -c conda-forge packages_name\n",
    "```\n",
    "\n",
    "## Jupyter Lab\n",
    "### How to activate interactive plots\n",
    "1. Install nodejs, e.g. ``conda install nodejs``\n",
    "1. Install ipympl, e.g. ``pip install ipympl``\n",
    "1. run:\n",
    "    ```shell script\n",
    "    $ export JUPYTERLAB_DIR=\"$HOME/.local/share/jupyter/lab\"\n",
    "    ```\n",
    "1. Install extensions:\n",
    "    ```shell script\n",
    "    $ jupyter labextension install @jupyter-widgets/jupyterlab-manager\n",
    "    $ jupyter labextension install jupyter-matplotlib\n",
    "    ```\n",
    "1. Enable widgets:\n",
    "    ```shell script\n",
    "    $ jupyter nbextension enable --py widgetsnbextension\n",
    "    ```\n",
    "1. Restart JupyterLab.\n",
    "1.  Decorate your Jupyter notebook file with ``%matplotlib widget``\n",
    "\n",
    "for more info visit [this page](https://stackoverflow.com/questions/50149562/jupyterlab-interactive-plot)\n",
    "\n",
    "\n",
    "[//]: # (These are reference links used in the body of this note and get stripped out when the markdown processor does its job. There is no need to format nicely because it shouldn't be seen. Thanks SO - http://stackoverflow.com/questions/4823468/store-comments-in-markdown-syntax)\n",
    "   [intellij_website]:<https://www.jetbrains.com/idea/download/>\n",
    "   [pycharm_website]: <https://www.jetbrains.com/pycharm/download/>\n",
    "   [anaconda_website]: <https://www.anaconda.com/products/individual>\n",
    "   [conda_cheatsheet]: <https://docs.conda.io/projects/conda/en/latest/user-guide/cheatsheet.html>\n"
   ]
  }
 ],
 "metadata": {
  "kernelspec": {
   "display_name": "Python 3",
   "language": "python",
   "name": "python3"
  },
  "language_info": {
   "codemirror_mode": {
    "name": "ipython",
    "version": 3
   },
   "file_extension": ".py",
   "mimetype": "text/x-python",
   "name": "python",
   "nbconvert_exporter": "python",
   "pygments_lexer": "ipython3",
   "version": "3.8.3"
  }
 },
 "nbformat": 4,
 "nbformat_minor": 4
}
