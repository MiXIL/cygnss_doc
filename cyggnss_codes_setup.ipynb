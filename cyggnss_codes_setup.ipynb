{
 "cells": [
  {
   "cell_type": "markdown",
   "metadata": {},
   "source": [
    "# CYGNSS codes setup"
   ]
  },
  {
   "cell_type": "markdown",
   "metadata": {},
   "source": [
    "## Setting Enviroment Variables"
   ]
  },
  {
   "cell_type": "markdown",
   "metadata": {},
   "source": [
    "```bash\n",
    "export CYGNSS_L1_PATH = PATHNAME\n",
    "export SRTM_PATH = PATHNAME\n",
    "```"
   ]
  },
  {
   "cell_type": "markdown",
   "metadata": {},
   "source": [
    "e.g ```export CYGNSS_L1_PATH = /mnt/d/cygnss_data/drive/files/allData/cygnss/L1/v2.1/```"
   ]
  },
  {
   "cell_type": "markdown",
   "metadata": {},
   "source": [
    "## How to set Environment Variables"
   ]
  },
  {
   "cell_type": "markdown",
   "metadata": {},
   "source": [
    "### Linux\n",
    "write this in the bash  \n",
    "```bash\n",
    "nano ~/.bashrc\n",
    "```\n",
    "then add this line with replacing ```PATHNAME``` with the dir of the L1 data folder  \n",
    "```bash\n",
    "export CYGNSS_L1_PATH = PATHNAME \n",
    "```\n",
    "\n",
    "You can paste in nano by ``` Shift+right mouse click``` or ``` CTRL + Shift + V```  \n",
    "\n",
    "For more info visit [this page](https://www.digitalocean.com/community/tutorials/how-to-read-and-set-environmental-and-shell-variables-on-a-linux-vps) \n",
    "\n",
    "To check if everything is working  \n",
    "```bash\n",
    "source  ~/.bashrc  \n",
    "echo $CYGNSS_L1_dir  \n",
    "```"
   ]
  },
  {
   "cell_type": "markdown",
   "metadata": {},
   "source": [
    "### Windows\n",
    "in search look for \"Edit environment variables for your account\"\n",
    "click **New...**  \n",
    "\n",
    "a new window will open, enter the following:  \n",
    "Variable name: ```CYGNSS_L1_PATH```  \n",
    "Variable Value: ```PATHNAME```  \n",
    "Then click OK  \n",
    "\n",
    "The same thing can be done for ```SRTM_PATH```  \n",
    "for more info check [this link](https://www.architectryan.com/2018/08/31/how-to-change-environment-variables-on-windows-10/) and [this link](https://docs.microsoft.com/en-us/windows-server/administration/windows-commands/setx)\n"
   ]
  },
  {
   "cell_type": "markdown",
   "metadata": {},
   "source": [
    "## call environment variables in python"
   ]
  },
  {
   "cell_type": "markdown",
   "metadata": {},
   "source": [
    "you can call and set environment variables in python. However, setting env var in python is temporary, it get removed as you close the session.  \n",
    "\n",
    "```python \n",
    "import os  \n",
    "os.environ[\"CYGNSS_L1_PATH\"]\n",
    "os.environ[\"SRTM_PATH\"]\n",
    "```"
   ]
  }
 ],
 "metadata": {
  "kernelspec": {
   "display_name": "Python 3",
   "language": "python",
   "name": "python3"
  },
  "language_info": {
   "codemirror_mode": {
    "name": "ipython",
    "version": 3
   },
   "file_extension": ".py",
   "mimetype": "text/x-python",
   "name": "python",
   "nbconvert_exporter": "python",
   "pygments_lexer": "ipython3",
   "version": "3.7.4"
  }
 },
 "nbformat": 4,
 "nbformat_minor": 4
}
