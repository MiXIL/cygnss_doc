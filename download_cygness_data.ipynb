{
 "cells": [
  {
   "cell_type": "markdown",
   "metadata": {},
   "source": [
    "# Download CYGNSS data using Wget"
   ]
  },
  {
   "cell_type": "markdown",
   "metadata": {},
   "source": [
    "## Table of contents\n",
    "\n",
    "* Downloading Wget (windows)\n",
    "* Running the App \n",
    "* Examples\n",
    "* Notes"
   ]
  },
  {
   "cell_type": "markdown",
   "metadata": {},
   "source": [
    "## Downloading Wget\n",
    "\n",
    "### for windows\n",
    "you can download it from [this link](https://eternallybored.org/misc/wget/). follow the steps in [this page](https://builtvisible.com/download-your-website-with-wget/) to install Wget in windows\n",
    "### for linux \n",
    "\n",
    "use the following command \n",
    "``` bash \n",
    "apt install wget\n",
    "```\n"
   ]
  },
  {
   "cell_type": "markdown",
   "metadata": {},
   "source": [
    "## Running the app \n",
    "\n",
    "you can download any file using the following command either in cmd or bash\n",
    "```bash\n",
    "wget url\n",
    "```\n",
    "\n",
    "you can get more info about the options using the following code\n",
    "```bash\n",
    "wget --help\n",
    "```"
   ]
  },
  {
   "cell_type": "markdown",
   "metadata": {},
   "source": [
    "## Examples\n",
    "\n",
    "The following example is for cygnss data and can be applied to other data from NASA PO.DAAC service. \n",
    "you'll need a user name and a password which you can get from [The PO.DAAC Drive API Credentials\n",
    "](https://podaac-tools.jpl.nasa.gov/drive/)\n",
    "\n",
    "* Downloading a folder <br>\n",
    "\n",
    "```bash\n",
    "wget --user=USER --password=PASS -r -nc -np -nH -l 0 -t 0 -A \".nc, .md5\" \"https://podaac-tools.jpl.nasa.gov/drive/files/allData/cygnss/L1/v2.1/2019/001/\"\n",
    "\n",
    "```\n",
    "\n",
    "* Downloading days from 1-9 in year 2019 (cmd only) <br>\n",
    "\n",
    "```bash\n",
    "FOR /L %%a IN (1,1,9) DO  wget --user=USER --password=PASS -r -nc -np -nH -l 0 -t 0 -A \".nc, .md5\" \"https://podaac-tools.jpl.nasa.gov/drive/files/allData/cygnss/L1/v2.1/2019/00%%a/\"\n",
    "```\n",
    "\n",
    "* Downloading days from 1-294 in year 2019 (cmd only) <br>\n",
    "\n",
    "```bash\n",
    "FOR /L %%a IN (1,1,9) DO  wget --user=USER --password=PASS -r -nc -np -nH -l 0 -t 0 -A \".nc, .md5\" \"https://podaac-tools.jpl.nasa.gov/drive/files/allData/cygnss/L1/v2.1/2019/00%%a/\"\n",
    "\n",
    "FOR /L %%a IN (10,1,99) DO  wget --user=USER --password=PASS -r -nc -np -nH -l 0 -t 0 -A \".nc, .md5\" \"https://podaac-tools.jpl.nasa.gov/drive/files/allData/cygnss/L1/v2.1/2019/0%%a/\"\n",
    "\n",
    "FOR /L %%a IN (100,1,294) DO  wget --user=USER --password=PASS -r -nc -np -nH -l 0 -t 0 -A \".nc, .md5\" \"https://podaac-tools.jpl.nasa.gov/drive/files/allData/cygnss/L1/v2.1/2019/%%a/\"\n",
    "\n",
    "```\n",
    "<br>\n",
    "\n",
    "Note: you can put those command in `.cmd` file and then you can run them by a click. you need to replace `USER` and `PASS` by yours from [PO.DAAC Drive API Credentials](https://podaac-tools.jpl.nasa.gov/drive/)."
   ]
  },
  {
   "cell_type": "markdown",
   "metadata": {},
   "source": [
    "## Notes\n",
    "* Sometimes Wget doesn't download all the data, so make sure to run the code multiple times.\n",
    "* if your machine is out of space, Wget will not tell you that, it will simply doesn't download the data."
   ]
  }
 ],
 "metadata": {
  "kernelspec": {
   "display_name": "Python 3",
   "language": "python",
   "name": "python3"
  },
  "language_info": {
   "codemirror_mode": {
    "name": "ipython",
    "version": 3
   },
   "file_extension": ".py",
   "mimetype": "text/x-python",
   "name": "python",
   "nbconvert_exporter": "python",
   "pygments_lexer": "ipython3",
   "version": "3.7.3"
  }
 },
 "nbformat": 4,
 "nbformat_minor": 2
}
